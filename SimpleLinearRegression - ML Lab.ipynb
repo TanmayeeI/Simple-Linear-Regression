{
 "cells": [
  {
   "cell_type": "markdown",
   "id": "55cab8d5",
   "metadata": {},
   "source": [
    "Q1"
   ]
  },
  {
   "cell_type": "code",
   "execution_count": 1,
   "id": "b792be4f",
   "metadata": {},
   "outputs": [],
   "source": [
    "# Importing libraries\n",
    "import numpy as np\n",
    "\n",
    "# Given data\n",
    "x = np.array([0, 1, 2, 3, 4, 5, 6, 7, 8, 9])\n",
    "y = np.array([1, 3, 2, 5, 7, 8, 8, 9, 10, 12])\n",
    "\n",
    "# Number of observations\n",
    "n = len(x)"
   ]
  },
  {
   "cell_type": "code",
   "execution_count": 2,
   "id": "a547683e",
   "metadata": {},
   "outputs": [],
   "source": [
    "# Compute regression coefficients\n",
    "X_mean = np.mean(x)\n",
    "Y_mean = np.mean(y)"
   ]
  },
  {
   "cell_type": "code",
   "execution_count": 3,
   "id": "3cb8feb6",
   "metadata": {},
   "outputs": [],
   "source": [
    "# Calculating the coefficients\n",
    "b1 = np.sum((x - X_mean) * (y - Y_mean)) / np.sum((x - X_mean) ** 2)\n",
    "b0 = Y_mean - b1 * X_mean"
   ]
  },
  {
   "cell_type": "code",
   "execution_count": 4,
   "id": "78c5e4b6",
   "metadata": {},
   "outputs": [],
   "source": [
    "# Predicting y values\n",
    "y_pred = b0 + b1 * x"
   ]
  },
  {
   "cell_type": "code",
   "execution_count": 5,
   "id": "ebf90760",
   "metadata": {},
   "outputs": [],
   "source": [
    "# Compute Sum of Squared Errors (SSE)\n",
    "SSE = np.sum((y - y_pred) ** 2)"
   ]
  },
  {
   "cell_type": "code",
   "execution_count": 6,
   "id": "46058c45",
   "metadata": {},
   "outputs": [],
   "source": [
    "# Compute R^2 value\n",
    "SS_total = np.sum((y - Y_mean) ** 2)\n",
    "R2 = 1 - (SSE / SS_total)"
   ]
  },
  {
   "cell_type": "code",
   "execution_count": 7,
   "id": "e6bd37c5",
   "metadata": {},
   "outputs": [
    {
     "name": "stdout",
     "output_type": "stream",
     "text": [
      "Intercept (b0): 1.24\n",
      "Slope (b1): 1.17\n",
      "Sum of Squared Errors (SSE): 5.62\n",
      "R^2 value: 0.95\n"
     ]
    }
   ],
   "source": [
    "# Results\n",
    "print(f\"Intercept (b0): {b0.round(2)}\")\n",
    "print(f\"Slope (b1): {b1.round(2)}\")\n",
    "print(f\"Sum of Squared Errors (SSE): {SSE.round(2)}\")\n",
    "print(f\"R^2 value: {R2.round(2)}\")"
   ]
  },
  {
   "cell_type": "code",
   "execution_count": 8,
   "id": "d835eea5",
   "metadata": {},
   "outputs": [],
   "source": [
    "# Importing libraries and given datasets\n",
    "from sklearn.linear_model import LinearRegression\n",
    "import numpy as np\n",
    "\n",
    "# Given data\n",
    "x = np.array([0, 1, 2, 3, 4, 5, 6, 7, 8, 9]).reshape(-1, 1)  # Reshape to 2D array\n",
    "y = np.array([1, 3, 2, 5, 7, 8, 8, 9, 10, 12])"
   ]
  },
  {
   "cell_type": "code",
   "execution_count": 9,
   "id": "1f48d055",
   "metadata": {},
   "outputs": [
    {
     "data": {
      "text/html": [
       "<style>#sk-container-id-1 {color: black;}#sk-container-id-1 pre{padding: 0;}#sk-container-id-1 div.sk-toggleable {background-color: white;}#sk-container-id-1 label.sk-toggleable__label {cursor: pointer;display: block;width: 100%;margin-bottom: 0;padding: 0.3em;box-sizing: border-box;text-align: center;}#sk-container-id-1 label.sk-toggleable__label-arrow:before {content: \"▸\";float: left;margin-right: 0.25em;color: #696969;}#sk-container-id-1 label.sk-toggleable__label-arrow:hover:before {color: black;}#sk-container-id-1 div.sk-estimator:hover label.sk-toggleable__label-arrow:before {color: black;}#sk-container-id-1 div.sk-toggleable__content {max-height: 0;max-width: 0;overflow: hidden;text-align: left;background-color: #f0f8ff;}#sk-container-id-1 div.sk-toggleable__content pre {margin: 0.2em;color: black;border-radius: 0.25em;background-color: #f0f8ff;}#sk-container-id-1 input.sk-toggleable__control:checked~div.sk-toggleable__content {max-height: 200px;max-width: 100%;overflow: auto;}#sk-container-id-1 input.sk-toggleable__control:checked~label.sk-toggleable__label-arrow:before {content: \"▾\";}#sk-container-id-1 div.sk-estimator input.sk-toggleable__control:checked~label.sk-toggleable__label {background-color: #d4ebff;}#sk-container-id-1 div.sk-label input.sk-toggleable__control:checked~label.sk-toggleable__label {background-color: #d4ebff;}#sk-container-id-1 input.sk-hidden--visually {border: 0;clip: rect(1px 1px 1px 1px);clip: rect(1px, 1px, 1px, 1px);height: 1px;margin: -1px;overflow: hidden;padding: 0;position: absolute;width: 1px;}#sk-container-id-1 div.sk-estimator {font-family: monospace;background-color: #f0f8ff;border: 1px dotted black;border-radius: 0.25em;box-sizing: border-box;margin-bottom: 0.5em;}#sk-container-id-1 div.sk-estimator:hover {background-color: #d4ebff;}#sk-container-id-1 div.sk-parallel-item::after {content: \"\";width: 100%;border-bottom: 1px solid gray;flex-grow: 1;}#sk-container-id-1 div.sk-label:hover label.sk-toggleable__label {background-color: #d4ebff;}#sk-container-id-1 div.sk-serial::before {content: \"\";position: absolute;border-left: 1px solid gray;box-sizing: border-box;top: 0;bottom: 0;left: 50%;z-index: 0;}#sk-container-id-1 div.sk-serial {display: flex;flex-direction: column;align-items: center;background-color: white;padding-right: 0.2em;padding-left: 0.2em;position: relative;}#sk-container-id-1 div.sk-item {position: relative;z-index: 1;}#sk-container-id-1 div.sk-parallel {display: flex;align-items: stretch;justify-content: center;background-color: white;position: relative;}#sk-container-id-1 div.sk-item::before, #sk-container-id-1 div.sk-parallel-item::before {content: \"\";position: absolute;border-left: 1px solid gray;box-sizing: border-box;top: 0;bottom: 0;left: 50%;z-index: -1;}#sk-container-id-1 div.sk-parallel-item {display: flex;flex-direction: column;z-index: 1;position: relative;background-color: white;}#sk-container-id-1 div.sk-parallel-item:first-child::after {align-self: flex-end;width: 50%;}#sk-container-id-1 div.sk-parallel-item:last-child::after {align-self: flex-start;width: 50%;}#sk-container-id-1 div.sk-parallel-item:only-child::after {width: 0;}#sk-container-id-1 div.sk-dashed-wrapped {border: 1px dashed gray;margin: 0 0.4em 0.5em 0.4em;box-sizing: border-box;padding-bottom: 0.4em;background-color: white;}#sk-container-id-1 div.sk-label label {font-family: monospace;font-weight: bold;display: inline-block;line-height: 1.2em;}#sk-container-id-1 div.sk-label-container {text-align: center;}#sk-container-id-1 div.sk-container {/* jupyter's `normalize.less` sets `[hidden] { display: none; }` but bootstrap.min.css set `[hidden] { display: none !important; }` so we also need the `!important` here to be able to override the default hidden behavior on the sphinx rendered scikit-learn.org. See: https://github.com/scikit-learn/scikit-learn/issues/21755 */display: inline-block !important;position: relative;}#sk-container-id-1 div.sk-text-repr-fallback {display: none;}</style><div id=\"sk-container-id-1\" class=\"sk-top-container\"><div class=\"sk-text-repr-fallback\"><pre>LinearRegression()</pre><b>In a Jupyter environment, please rerun this cell to show the HTML representation or trust the notebook. <br />On GitHub, the HTML representation is unable to render, please try loading this page with nbviewer.org.</b></div><div class=\"sk-container\" hidden><div class=\"sk-item\"><div class=\"sk-estimator sk-toggleable\"><input class=\"sk-toggleable__control sk-hidden--visually\" id=\"sk-estimator-id-1\" type=\"checkbox\" checked><label for=\"sk-estimator-id-1\" class=\"sk-toggleable__label sk-toggleable__label-arrow\">LinearRegression</label><div class=\"sk-toggleable__content\"><pre>LinearRegression()</pre></div></div></div></div></div>"
      ],
      "text/plain": [
       "LinearRegression()"
      ]
     },
     "execution_count": 9,
     "metadata": {},
     "output_type": "execute_result"
    }
   ],
   "source": [
    "# Full-batch Gradient Descent using LinearRegression from sklearn\n",
    "model_full_batch = LinearRegression()\n",
    "model_full_batch.fit(x, y)"
   ]
  },
  {
   "cell_type": "code",
   "execution_count": 10,
   "id": "ad9053ba",
   "metadata": {},
   "outputs": [],
   "source": [
    "# Predicted values\n",
    "y_pred_full_batch = model_full_batch.predict(x)"
   ]
  },
  {
   "cell_type": "code",
   "execution_count": 11,
   "id": "9a67021a",
   "metadata": {},
   "outputs": [
    {
     "name": "stdout",
     "output_type": "stream",
     "text": [
      "Intercept (b0): 1.2363636363636399\n",
      "Coefficient (b1): 1.169696969696969\n"
     ]
    }
   ],
   "source": [
    "# Intercept and coefficient\n",
    "b0_full_batch_sklearn = model_full_batch.intercept_\n",
    "b1_full_batch_sklearn = model_full_batch.coef_[0]\n",
    "print(f\"Intercept (b0): {b0_full_batch_sklearn}\")\n",
    "print(f\"Coefficient (b1): {b1_full_batch_sklearn}\")"
   ]
  },
  {
   "cell_type": "code",
   "execution_count": 12,
   "id": "c86795c8",
   "metadata": {},
   "outputs": [
    {
     "name": "stdout",
     "output_type": "stream",
     "text": [
      "SSE: 5.624242424242425\n"
     ]
    }
   ],
   "source": [
    "# SSE from scratch for Full-batch Gradient Descent\n",
    "SSE_full_batch_sklearn = np.sum((y - y_pred_full_batch) ** 2)\n",
    "print(f\"SSE: {SSE_full_batch_sklearn}\")"
   ]
  },
  {
   "cell_type": "code",
   "execution_count": 13,
   "id": "11f9ea6e",
   "metadata": {},
   "outputs": [
    {
     "name": "stdout",
     "output_type": "stream",
     "text": [
      "R^2 Score: 0.952538038613988\n"
     ]
    }
   ],
   "source": [
    "# R^2 score from scratch for Full-batch Gradient Descent\n",
    "SS_tot = np.sum((y - np.mean(y)) ** 2)\n",
    "R2_full_batch_sklearn = 1 - (np.sum((y - y_pred_full_batch) ** 2) / SS_tot)\n",
    "print(f\"R^2 Score: {R2_full_batch_sklearn}\")"
   ]
  },
  {
   "cell_type": "code",
   "execution_count": 14,
   "id": "1c4e1bed",
   "metadata": {},
   "outputs": [],
   "source": [
    "from sklearn.linear_model import SGDRegressor"
   ]
  },
  {
   "cell_type": "code",
   "execution_count": 15,
   "id": "01df40d9",
   "metadata": {},
   "outputs": [
    {
     "data": {
      "text/html": [
       "<style>#sk-container-id-2 {color: black;}#sk-container-id-2 pre{padding: 0;}#sk-container-id-2 div.sk-toggleable {background-color: white;}#sk-container-id-2 label.sk-toggleable__label {cursor: pointer;display: block;width: 100%;margin-bottom: 0;padding: 0.3em;box-sizing: border-box;text-align: center;}#sk-container-id-2 label.sk-toggleable__label-arrow:before {content: \"▸\";float: left;margin-right: 0.25em;color: #696969;}#sk-container-id-2 label.sk-toggleable__label-arrow:hover:before {color: black;}#sk-container-id-2 div.sk-estimator:hover label.sk-toggleable__label-arrow:before {color: black;}#sk-container-id-2 div.sk-toggleable__content {max-height: 0;max-width: 0;overflow: hidden;text-align: left;background-color: #f0f8ff;}#sk-container-id-2 div.sk-toggleable__content pre {margin: 0.2em;color: black;border-radius: 0.25em;background-color: #f0f8ff;}#sk-container-id-2 input.sk-toggleable__control:checked~div.sk-toggleable__content {max-height: 200px;max-width: 100%;overflow: auto;}#sk-container-id-2 input.sk-toggleable__control:checked~label.sk-toggleable__label-arrow:before {content: \"▾\";}#sk-container-id-2 div.sk-estimator input.sk-toggleable__control:checked~label.sk-toggleable__label {background-color: #d4ebff;}#sk-container-id-2 div.sk-label input.sk-toggleable__control:checked~label.sk-toggleable__label {background-color: #d4ebff;}#sk-container-id-2 input.sk-hidden--visually {border: 0;clip: rect(1px 1px 1px 1px);clip: rect(1px, 1px, 1px, 1px);height: 1px;margin: -1px;overflow: hidden;padding: 0;position: absolute;width: 1px;}#sk-container-id-2 div.sk-estimator {font-family: monospace;background-color: #f0f8ff;border: 1px dotted black;border-radius: 0.25em;box-sizing: border-box;margin-bottom: 0.5em;}#sk-container-id-2 div.sk-estimator:hover {background-color: #d4ebff;}#sk-container-id-2 div.sk-parallel-item::after {content: \"\";width: 100%;border-bottom: 1px solid gray;flex-grow: 1;}#sk-container-id-2 div.sk-label:hover label.sk-toggleable__label {background-color: #d4ebff;}#sk-container-id-2 div.sk-serial::before {content: \"\";position: absolute;border-left: 1px solid gray;box-sizing: border-box;top: 0;bottom: 0;left: 50%;z-index: 0;}#sk-container-id-2 div.sk-serial {display: flex;flex-direction: column;align-items: center;background-color: white;padding-right: 0.2em;padding-left: 0.2em;position: relative;}#sk-container-id-2 div.sk-item {position: relative;z-index: 1;}#sk-container-id-2 div.sk-parallel {display: flex;align-items: stretch;justify-content: center;background-color: white;position: relative;}#sk-container-id-2 div.sk-item::before, #sk-container-id-2 div.sk-parallel-item::before {content: \"\";position: absolute;border-left: 1px solid gray;box-sizing: border-box;top: 0;bottom: 0;left: 50%;z-index: -1;}#sk-container-id-2 div.sk-parallel-item {display: flex;flex-direction: column;z-index: 1;position: relative;background-color: white;}#sk-container-id-2 div.sk-parallel-item:first-child::after {align-self: flex-end;width: 50%;}#sk-container-id-2 div.sk-parallel-item:last-child::after {align-self: flex-start;width: 50%;}#sk-container-id-2 div.sk-parallel-item:only-child::after {width: 0;}#sk-container-id-2 div.sk-dashed-wrapped {border: 1px dashed gray;margin: 0 0.4em 0.5em 0.4em;box-sizing: border-box;padding-bottom: 0.4em;background-color: white;}#sk-container-id-2 div.sk-label label {font-family: monospace;font-weight: bold;display: inline-block;line-height: 1.2em;}#sk-container-id-2 div.sk-label-container {text-align: center;}#sk-container-id-2 div.sk-container {/* jupyter's `normalize.less` sets `[hidden] { display: none; }` but bootstrap.min.css set `[hidden] { display: none !important; }` so we also need the `!important` here to be able to override the default hidden behavior on the sphinx rendered scikit-learn.org. See: https://github.com/scikit-learn/scikit-learn/issues/21755 */display: inline-block !important;position: relative;}#sk-container-id-2 div.sk-text-repr-fallback {display: none;}</style><div id=\"sk-container-id-2\" class=\"sk-top-container\"><div class=\"sk-text-repr-fallback\"><pre>SGDRegressor(tol=1e-06)</pre><b>In a Jupyter environment, please rerun this cell to show the HTML representation or trust the notebook. <br />On GitHub, the HTML representation is unable to render, please try loading this page with nbviewer.org.</b></div><div class=\"sk-container\" hidden><div class=\"sk-item\"><div class=\"sk-estimator sk-toggleable\"><input class=\"sk-toggleable__control sk-hidden--visually\" id=\"sk-estimator-id-2\" type=\"checkbox\" checked><label for=\"sk-estimator-id-2\" class=\"sk-toggleable__label sk-toggleable__label-arrow\">SGDRegressor</label><div class=\"sk-toggleable__content\"><pre>SGDRegressor(tol=1e-06)</pre></div></div></div></div></div>"
      ],
      "text/plain": [
       "SGDRegressor(tol=1e-06)"
      ]
     },
     "execution_count": 15,
     "metadata": {},
     "output_type": "execute_result"
    }
   ],
   "source": [
    "# Stochastic Gradient Descent using SGDRegressor from sklearn\n",
    "model_stochastic = SGDRegressor(max_iter=1000, tol=1e-6)\n",
    "model_stochastic.fit(x, y)"
   ]
  },
  {
   "cell_type": "code",
   "execution_count": 16,
   "id": "f413fd5c",
   "metadata": {},
   "outputs": [],
   "source": [
    "# Predicted values for Stochastic Gradient Descent\n",
    "y_pred_stochastic_sklearn = model_stochastic.predict(x)"
   ]
  },
  {
   "cell_type": "code",
   "execution_count": 17,
   "id": "7aa13a74",
   "metadata": {},
   "outputs": [
    {
     "name": "stdout",
     "output_type": "stream",
     "text": [
      "SSE (SGD): 6.135369487483844\n"
     ]
    }
   ],
   "source": [
    "# SSE from scratch for Stochastic Gradient Descent\n",
    "SSE_stochastic_sklearn = np.sum((y - y_pred_stochastic_sklearn) ** 2)\n",
    "print(f\"SSE (SGD): {SSE_stochastic_sklearn}\")"
   ]
  },
  {
   "cell_type": "code",
   "execution_count": 18,
   "id": "0ffb78e3",
   "metadata": {},
   "outputs": [
    {
     "name": "stdout",
     "output_type": "stream",
     "text": [
      "R^2 Score (SGD): 0.9482247300634274\n"
     ]
    }
   ],
   "source": [
    "# R^2 score from scratch for Stochastic Gradient Descent\n",
    "R2_stochastic_sklearn = 1 - (np.sum((y - y_pred_stochastic_sklearn) ** 2) / SS_tot)\n",
    "print(f\"R^2 Score (SGD): {R2_stochastic_sklearn}\")"
   ]
  },
  {
   "cell_type": "markdown",
   "id": "82d4faf3",
   "metadata": {},
   "source": [
    "Q2"
   ]
  },
  {
   "cell_type": "code",
   "execution_count": 19,
   "id": "604b4254",
   "metadata": {},
   "outputs": [],
   "source": [
    "# Importing libraires\n",
    "import pandas as pd\n",
    "import numpy as np\n",
    "from sklearn.model_selection import train_test_split\n",
    "from sklearn.preprocessing import StandardScaler\n",
    "from sklearn.linear_model import SGDRegressor"
   ]
  },
  {
   "cell_type": "code",
   "execution_count": 20,
   "id": "e21ebc70",
   "metadata": {},
   "outputs": [],
   "source": [
    "# Define column names based on a typical housing dataset structure\n",
    "column_names = ['CRIM', 'ZN', 'INDUS', 'CHAS', 'NOX', 'RM', 'AGE', 'DIS', 'RAD', 'TAX', 'PTRATIO', 'B', 'LSTAT', 'MEDV']"
   ]
  },
  {
   "cell_type": "code",
   "execution_count": 21,
   "id": "3398fbcc",
   "metadata": {},
   "outputs": [],
   "source": [
    "# Load the dataset with column names and the correct delimiter\n",
    "data = pd.read_csv(r\"C:\\Users\\itanm\\Downloads\\housing.csv\", delim_whitespace=True, names=column_names)"
   ]
  },
  {
   "cell_type": "code",
   "execution_count": 22,
   "id": "c99c3f63",
   "metadata": {},
   "outputs": [],
   "source": [
    "# Calculate the correlation matrix\n",
    "correlation_matrix = data.corr()"
   ]
  },
  {
   "cell_type": "code",
   "execution_count": 23,
   "id": "63f16946",
   "metadata": {},
   "outputs": [],
   "source": [
    "# Extract the correlation of each attribute with 'MEDV'\n",
    "correlation_with_medv = correlation_matrix['MEDV'].sort_values(ascending=False)"
   ]
  },
  {
   "cell_type": "code",
   "execution_count": 24,
   "id": "89dafc50",
   "metadata": {},
   "outputs": [
    {
     "name": "stdout",
     "output_type": "stream",
     "text": [
      "Correlation of each attribute with MEDV (output price):\n",
      "MEDV       1.000000\n",
      "RM         0.695360\n",
      "ZN         0.360445\n",
      "B          0.333461\n",
      "DIS        0.249929\n",
      "CHAS       0.175260\n",
      "AGE       -0.376955\n",
      "RAD       -0.381626\n",
      "CRIM      -0.388305\n",
      "NOX       -0.427321\n",
      "TAX       -0.468536\n",
      "INDUS     -0.483725\n",
      "PTRATIO   -0.507787\n",
      "LSTAT     -0.737663\n",
      "Name: MEDV, dtype: float64\n"
     ]
    }
   ],
   "source": [
    "# Display the correlation of each attribute with 'MEDV'\n",
    "print(\"Correlation of each attribute with MEDV (output price):\")\n",
    "print(correlation_with_medv)"
   ]
  },
  {
   "cell_type": "code",
   "execution_count": 25,
   "id": "64faf1f1",
   "metadata": {},
   "outputs": [],
   "source": [
    "# Find the attribute with the highest correlation with 'MEDV'\n",
    "best_attribute = correlation_with_medv.idxmax()\n",
    "best_correlation = correlation_with_medv.max()"
   ]
  },
  {
   "cell_type": "code",
   "execution_count": 26,
   "id": "6b1e9351",
   "metadata": {},
   "outputs": [
    {
     "name": "stdout",
     "output_type": "stream",
     "text": [
      "\n",
      "The attribute that best follows the linear relationship with MEDV is 'MEDV' with a correlation of 1.00.\n"
     ]
    }
   ],
   "source": [
    "print(f\"\\nThe attribute that best follows the linear relationship with MEDV is '{best_attribute}' with a correlation of {best_correlation:.2f}.\")"
   ]
  },
  {
   "cell_type": "code",
   "execution_count": 27,
   "id": "869747b9",
   "metadata": {},
   "outputs": [],
   "source": [
    "# Define the feature matrix (X) and the response vector (y)\n",
    "X = data.drop('MEDV', axis=1).values  # Assuming 'MEDV' is the target variable\n",
    "y = data['MEDV'].values"
   ]
  },
  {
   "cell_type": "code",
   "execution_count": 28,
   "id": "8786db50",
   "metadata": {},
   "outputs": [],
   "source": [
    "# Split the data into training and testing sets\n",
    "X_train, X_test, y_train, y_test = train_test_split(X, y, test_size=0.4, random_state=1)"
   ]
  },
  {
   "cell_type": "code",
   "execution_count": 29,
   "id": "a9db535f",
   "metadata": {},
   "outputs": [],
   "source": [
    "# Normalize the feature matrix X using StandardScaler\n",
    "scaler = StandardScaler()\n",
    "X_train_scaled = scaler.fit_transform(X_train)\n",
    "X_test_scaled = scaler.transform(X_test)"
   ]
  },
  {
   "cell_type": "code",
   "execution_count": 30,
   "id": "f78830bc",
   "metadata": {},
   "outputs": [],
   "source": [
    "# Add a column of ones for the intercept term\n",
    "X_train_b = np.c_[np.ones((X_train_scaled.shape[0], 1)), X_train_scaled]\n",
    "X_test_b = np.c_[np.ones((X_test_scaled.shape[0], 1)), X_test_scaled]"
   ]
  },
  {
   "cell_type": "code",
   "execution_count": 31,
   "id": "34300b5c",
   "metadata": {},
   "outputs": [],
   "source": [
    "# Compute the closed-form solution using the normal equation\n",
    "theta_analytic = np.linalg.inv(X_train_b.T.dot(X_train_b)).dot(X_train_b.T).dot(y_train)"
   ]
  },
  {
   "cell_type": "code",
   "execution_count": 32,
   "id": "7bf68cf3",
   "metadata": {},
   "outputs": [],
   "source": [
    "# calculating gradient descent(Full-Batch)\n",
    "# Set parameters for gradient descent\n",
    "learning_rate = 0.001  # Lower learning rate to ensure convergence\n",
    "n_iterations = 1000\n",
    "m = X_train_b.shape[0]"
   ]
  },
  {
   "cell_type": "code",
   "execution_count": 33,
   "id": "a63895f3",
   "metadata": {},
   "outputs": [],
   "source": [
    "# Initialize theta (coefficients) with zeros\n",
    "theta_full_batch = np.zeros(X_train_b.shape[1])"
   ]
  },
  {
   "cell_type": "code",
   "execution_count": 34,
   "id": "99b2c704",
   "metadata": {},
   "outputs": [],
   "source": [
    "# Perform full-batch gradient descent\n",
    "for iteration in range(n_iterations):\n",
    "    gradients = 2/m * X_train_b.T.dot(X_train_b.dot(theta_full_batch) - y_train)\n",
    "    theta_full_batch -= learning_rate * gradients"
   ]
  },
  {
   "cell_type": "code",
   "execution_count": 35,
   "id": "d1c32b04",
   "metadata": {},
   "outputs": [],
   "source": [
    "# Initialize the SGDRegressor with a lower learning rate\n",
    "sgd_reg = SGDRegressor(max_iter=1000, tol=1e-3)"
   ]
  },
  {
   "cell_type": "code",
   "execution_count": 36,
   "id": "14b791f5",
   "metadata": {},
   "outputs": [
    {
     "data": {
      "text/html": [
       "<style>#sk-container-id-3 {color: black;}#sk-container-id-3 pre{padding: 0;}#sk-container-id-3 div.sk-toggleable {background-color: white;}#sk-container-id-3 label.sk-toggleable__label {cursor: pointer;display: block;width: 100%;margin-bottom: 0;padding: 0.3em;box-sizing: border-box;text-align: center;}#sk-container-id-3 label.sk-toggleable__label-arrow:before {content: \"▸\";float: left;margin-right: 0.25em;color: #696969;}#sk-container-id-3 label.sk-toggleable__label-arrow:hover:before {color: black;}#sk-container-id-3 div.sk-estimator:hover label.sk-toggleable__label-arrow:before {color: black;}#sk-container-id-3 div.sk-toggleable__content {max-height: 0;max-width: 0;overflow: hidden;text-align: left;background-color: #f0f8ff;}#sk-container-id-3 div.sk-toggleable__content pre {margin: 0.2em;color: black;border-radius: 0.25em;background-color: #f0f8ff;}#sk-container-id-3 input.sk-toggleable__control:checked~div.sk-toggleable__content {max-height: 200px;max-width: 100%;overflow: auto;}#sk-container-id-3 input.sk-toggleable__control:checked~label.sk-toggleable__label-arrow:before {content: \"▾\";}#sk-container-id-3 div.sk-estimator input.sk-toggleable__control:checked~label.sk-toggleable__label {background-color: #d4ebff;}#sk-container-id-3 div.sk-label input.sk-toggleable__control:checked~label.sk-toggleable__label {background-color: #d4ebff;}#sk-container-id-3 input.sk-hidden--visually {border: 0;clip: rect(1px 1px 1px 1px);clip: rect(1px, 1px, 1px, 1px);height: 1px;margin: -1px;overflow: hidden;padding: 0;position: absolute;width: 1px;}#sk-container-id-3 div.sk-estimator {font-family: monospace;background-color: #f0f8ff;border: 1px dotted black;border-radius: 0.25em;box-sizing: border-box;margin-bottom: 0.5em;}#sk-container-id-3 div.sk-estimator:hover {background-color: #d4ebff;}#sk-container-id-3 div.sk-parallel-item::after {content: \"\";width: 100%;border-bottom: 1px solid gray;flex-grow: 1;}#sk-container-id-3 div.sk-label:hover label.sk-toggleable__label {background-color: #d4ebff;}#sk-container-id-3 div.sk-serial::before {content: \"\";position: absolute;border-left: 1px solid gray;box-sizing: border-box;top: 0;bottom: 0;left: 50%;z-index: 0;}#sk-container-id-3 div.sk-serial {display: flex;flex-direction: column;align-items: center;background-color: white;padding-right: 0.2em;padding-left: 0.2em;position: relative;}#sk-container-id-3 div.sk-item {position: relative;z-index: 1;}#sk-container-id-3 div.sk-parallel {display: flex;align-items: stretch;justify-content: center;background-color: white;position: relative;}#sk-container-id-3 div.sk-item::before, #sk-container-id-3 div.sk-parallel-item::before {content: \"\";position: absolute;border-left: 1px solid gray;box-sizing: border-box;top: 0;bottom: 0;left: 50%;z-index: -1;}#sk-container-id-3 div.sk-parallel-item {display: flex;flex-direction: column;z-index: 1;position: relative;background-color: white;}#sk-container-id-3 div.sk-parallel-item:first-child::after {align-self: flex-end;width: 50%;}#sk-container-id-3 div.sk-parallel-item:last-child::after {align-self: flex-start;width: 50%;}#sk-container-id-3 div.sk-parallel-item:only-child::after {width: 0;}#sk-container-id-3 div.sk-dashed-wrapped {border: 1px dashed gray;margin: 0 0.4em 0.5em 0.4em;box-sizing: border-box;padding-bottom: 0.4em;background-color: white;}#sk-container-id-3 div.sk-label label {font-family: monospace;font-weight: bold;display: inline-block;line-height: 1.2em;}#sk-container-id-3 div.sk-label-container {text-align: center;}#sk-container-id-3 div.sk-container {/* jupyter's `normalize.less` sets `[hidden] { display: none; }` but bootstrap.min.css set `[hidden] { display: none !important; }` so we also need the `!important` here to be able to override the default hidden behavior on the sphinx rendered scikit-learn.org. See: https://github.com/scikit-learn/scikit-learn/issues/21755 */display: inline-block !important;position: relative;}#sk-container-id-3 div.sk-text-repr-fallback {display: none;}</style><div id=\"sk-container-id-3\" class=\"sk-top-container\"><div class=\"sk-text-repr-fallback\"><pre>SGDRegressor()</pre><b>In a Jupyter environment, please rerun this cell to show the HTML representation or trust the notebook. <br />On GitHub, the HTML representation is unable to render, please try loading this page with nbviewer.org.</b></div><div class=\"sk-container\" hidden><div class=\"sk-item\"><div class=\"sk-estimator sk-toggleable\"><input class=\"sk-toggleable__control sk-hidden--visually\" id=\"sk-estimator-id-3\" type=\"checkbox\" checked><label for=\"sk-estimator-id-3\" class=\"sk-toggleable__label sk-toggleable__label-arrow\">SGDRegressor</label><div class=\"sk-toggleable__content\"><pre>SGDRegressor()</pre></div></div></div></div></div>"
      ],
      "text/plain": [
       "SGDRegressor()"
      ]
     },
     "execution_count": 36,
     "metadata": {},
     "output_type": "execute_result"
    }
   ],
   "source": [
    "# Fit the model to the standardized training data\n",
    "sgd_reg.fit(X_train_scaled, y_train)"
   ]
  },
  {
   "cell_type": "code",
   "execution_count": 37,
   "id": "18d96a34",
   "metadata": {},
   "outputs": [],
   "source": [
    "# Get the coefficients (including the intercept)\n",
    "theta_sgd = np.concatenate(([sgd_reg.intercept_[0]], sgd_reg.coef_))"
   ]
  },
  {
   "cell_type": "code",
   "execution_count": 38,
   "id": "12b5d77b",
   "metadata": {},
   "outputs": [],
   "source": [
    "# Creating columns and comparing results\n",
    "# Comparison of results\n",
    "df = pd.DataFrame({\n",
    "    \"Analytic Solution (Closed-Form)\": theta_analytic,\n",
    "    \"Full-Batch Gradient Descent\": theta_full_batch,\n",
    "    \"Stochastic Gradient Descent\": theta_sgd\n",
    "})"
   ]
  },
  {
   "cell_type": "code",
   "execution_count": 39,
   "id": "60e6cbdd",
   "metadata": {},
   "outputs": [
    {
     "name": "stdout",
     "output_type": "stream",
     "text": [
      "\n",
      "Comparison of coefficients:\n",
      "    Analytic Solution (Closed-Form)  Full-Batch Gradient Descent  \\\n",
      "0                         22.112541                    19.125921   \n",
      "1                         -0.796972                    -0.564164   \n",
      "2                          1.593507                     0.630986   \n",
      "3                          0.344417                    -0.456908   \n",
      "4                          0.590303                     0.805394   \n",
      "5                         -2.062413                    -0.638800   \n",
      "6                          2.442161                     2.900539   \n",
      "7                          0.058554                    -0.268819   \n",
      "8                         -2.924856                    -1.017952   \n",
      "9                          2.515060                     0.369254   \n",
      "10                        -2.063689                    -0.265583   \n",
      "11                        -1.819724                    -1.555737   \n",
      "12                         0.858254                     0.781418   \n",
      "13                        -3.731669                    -2.760108   \n",
      "\n",
      "    Stochastic Gradient Descent  \n",
      "0                     22.121577  \n",
      "1                     -0.641888  \n",
      "2                      1.182404  \n",
      "3                     -0.157671  \n",
      "4                      0.674254  \n",
      "5                     -1.632904  \n",
      "6                      2.666044  \n",
      "7                     -0.040020  \n",
      "8                     -2.501663  \n",
      "9                      1.364580  \n",
      "10                    -0.798063  \n",
      "11                    -1.787356  \n",
      "12                     0.887381  \n",
      "13                    -3.637139  \n"
     ]
    }
   ],
   "source": [
    "# Print the DataFrame\n",
    "print(\"\\nComparison of coefficients:\")\n",
    "print(df)"
   ]
  }
 ],
 "metadata": {
  "kernelspec": {
   "display_name": "Python 3 (ipykernel)",
   "language": "python",
   "name": "python3"
  },
  "language_info": {
   "codemirror_mode": {
    "name": "ipython",
    "version": 3
   },
   "file_extension": ".py",
   "mimetype": "text/x-python",
   "name": "python",
   "nbconvert_exporter": "python",
   "pygments_lexer": "ipython3",
   "version": "3.11.4"
  }
 },
 "nbformat": 4,
 "nbformat_minor": 5
}
